{
 "cells": [
  {
   "cell_type": "markdown",
   "id": "08b908b5",
   "metadata": {},
   "source": [
    "4 different datasets</br>\n",
    "1. smote</br>\n",
    "2. smote with PCA</br>\n",
    "3. RandomSampling</br>\n",
    "4. RandomSampling with PCA</br>\n",
    "</br>\n",
    "We will try to find the best dataset for logistic regression"
   ]
  },
  {
   "cell_type": "code",
   "execution_count": 1,
   "id": "4d81e353",
   "metadata": {},
   "outputs": [],
   "source": [
    "from sklearn.linear_model import LogisticRegression\n",
    "from sklearn.metrics import (\n",
    "    precision_score, recall_score, roc_auc_score, f1_score, confusion_matrix, accuracy_score\n",
    "    )\n",
    "import pandas as pd\n",
    "from sklearn.model_selection import train_test_split\n",
    "from sklearn.decomposition import PCA\n",
    "from sklearn.tree import DecisionTreeClassifier"
   ]
  },
  {
   "cell_type": "code",
   "execution_count": 2,
   "id": "ed58a6fa",
   "metadata": {},
   "outputs": [],
   "source": [
    "# this function aims to measure some metrics\n",
    "def metric(clf, x, y, mode=None, return_output=False):  \n",
    "    \n",
    "    preds = clf.predict(x)\n",
    "    prec = precision_score(y, preds)\n",
    "    reca = recall_score(y, preds)\n",
    "    roc = roc_auc_score(y, preds)\n",
    "    f1 = f1_score(y, preds)\n",
    "    acc = accuracy_score(y, preds)\n",
    "    conf_mat = confusion_matrix(y, preds)\n",
    "    if mode is not None:\n",
    "        print(f'=============={mode}=============')\n",
    "        print(\"Precision: \", prec)\n",
    "        print(\"Recall: \", reca)\n",
    "        print(\"ROC score: \", roc)\n",
    "        print(\"F1 score: \", f1)\n",
    "        print(\"Accuracy score: \", acc)\n",
    "        print(\"confusion matrix\")\n",
    "        print(conf_mat)\n",
    "    \n",
    "    if return_output is True:\n",
    "        return [prec, reca, roc, f1, acc]"
   ]
  },
  {
   "cell_type": "code",
   "execution_count": 9,
   "id": "f29485b3",
   "metadata": {},
   "outputs": [],
   "source": [
    "tr = pd.read_excel('./smote_dataset/tr.xlsx')# (82044, 51)\n",
    "te = pd.read_excel('./smote_dataset/test_final.xlsx')"
   ]
  },
  {
   "cell_type": "code",
   "execution_count": 10,
   "id": "d5d3a40b",
   "metadata": {},
   "outputs": [
    {
     "name": "stdout",
     "output_type": "stream",
     "text": [
      "train x shape: (65635, 50)\n",
      "train y shape: (65635,)\n",
      "val x shape: (16409, 50)\n",
      "val y shape: (16409,)\n"
     ]
    }
   ],
   "source": [
    "# get labels\n",
    "y_tr = tr['outcome']\n",
    "# get data\n",
    "col = tr.columns.to_list()\n",
    "del col[-1]\n",
    "x_tr = tr[col]\n",
    "\n",
    "x_train, x_val, y_train, y_val = train_test_split(x_tr, y_tr, test_size=0.2, random_state=8, stratify=tr[['outcome']])\n",
    "print('train x shape:', x_train.shape)\n",
    "print('train y shape:', y_train.shape)\n",
    "print('val x shape:', x_val.shape)\n",
    "print('val y shape:', y_val.shape)\n"
   ]
  },
  {
   "cell_type": "code",
   "execution_count": null,
   "id": "de7a4de7",
   "metadata": {},
   "outputs": [],
   "source": []
  },
  {
   "cell_type": "markdown",
   "id": "1b0cee00",
   "metadata": {},
   "source": [
    "# SMOTE"
   ]
  },
  {
   "cell_type": "code",
   "execution_count": 37,
   "id": "4ceaef02",
   "metadata": {},
   "outputs": [
    {
     "name": "stderr",
     "output_type": "stream",
     "text": [
      "C:\\Users\\cecnl-181\\anaconda3\\lib\\site-packages\\sklearn\\utils\\validation.py:70: FutureWarning: Pass criterion=gini as keyword args. From version 1.0 (renaming of 0.25) passing these as positional arguments will result in an error\n",
      "  warnings.warn(f\"Pass {args_msg} as keyword args. From version \"\n",
      "C:\\Users\\cecnl-181\\anaconda3\\lib\\site-packages\\sklearn\\utils\\validation.py:70: FutureWarning: Pass criterion=entropy as keyword args. From version 1.0 (renaming of 0.25) passing these as positional arguments will result in an error\n",
      "  warnings.warn(f\"Pass {args_msg} as keyword args. From version \"\n"
     ]
    }
   ],
   "source": [
    "criterion = ['gini', 'entropy']\n",
    "\n",
    "final_records = []\n",
    "for c in criterion:\n",
    "    record = []\n",
    "    record.append(c)\n",
    "    clf = DecisionTreeClassifier(c)\n",
    "    clf.fit(x_train, y_train)\n",
    "\n",
    "    me_list = metric(clf, x_val, y_val, None, True)\n",
    "    record += me_list\n",
    "    final_records.append(record)\n",
    "        \n",
    "df_smote = pd.DataFrame(final_records, columns=['criterion', 'precision', 'recall', 'ROC', 'f1', 'acc'])\n",
    "        "
   ]
  },
  {
   "cell_type": "code",
   "execution_count": 38,
   "id": "b7c442da",
   "metadata": {},
   "outputs": [
    {
     "data": {
      "text/html": [
       "<div>\n",
       "<style scoped>\n",
       "    .dataframe tbody tr th:only-of-type {\n",
       "        vertical-align: middle;\n",
       "    }\n",
       "\n",
       "    .dataframe tbody tr th {\n",
       "        vertical-align: top;\n",
       "    }\n",
       "\n",
       "    .dataframe thead th {\n",
       "        text-align: right;\n",
       "    }\n",
       "</style>\n",
       "<table border=\"1\" class=\"dataframe\">\n",
       "  <thead>\n",
       "    <tr style=\"text-align: right;\">\n",
       "      <th></th>\n",
       "      <th>criterion</th>\n",
       "      <th>precision</th>\n",
       "      <th>recall</th>\n",
       "      <th>ROC</th>\n",
       "      <th>f1</th>\n",
       "      <th>acc</th>\n",
       "    </tr>\n",
       "  </thead>\n",
       "  <tbody>\n",
       "    <tr>\n",
       "      <th>0</th>\n",
       "      <td>gini</td>\n",
       "      <td>0.963649</td>\n",
       "      <td>0.982206</td>\n",
       "      <td>0.972575</td>\n",
       "      <td>0.972839</td>\n",
       "      <td>0.972576</td>\n",
       "    </tr>\n",
       "    <tr>\n",
       "      <th>1</th>\n",
       "      <td>entropy</td>\n",
       "      <td>0.967893</td>\n",
       "      <td>0.980987</td>\n",
       "      <td>0.974221</td>\n",
       "      <td>0.974396</td>\n",
       "      <td>0.974221</td>\n",
       "    </tr>\n",
       "  </tbody>\n",
       "</table>\n",
       "</div>"
      ],
      "text/plain": [
       "  criterion  precision    recall       ROC        f1       acc\n",
       "0      gini   0.963649  0.982206  0.972575  0.972839  0.972576\n",
       "1   entropy   0.967893  0.980987  0.974221  0.974396  0.974221"
      ]
     },
     "execution_count": 38,
     "metadata": {},
     "output_type": "execute_result"
    }
   ],
   "source": [
    "df_smote\n"
   ]
  },
  {
   "cell_type": "code",
   "execution_count": 39,
   "id": "16ad7040",
   "metadata": {},
   "outputs": [],
   "source": [
    "df_smote.to_csv('./c45/c45_result_smote.csv')"
   ]
  },
  {
   "cell_type": "markdown",
   "id": "8cb2296c",
   "metadata": {},
   "source": [
    "# SMOTE w/ PCA"
   ]
  },
  {
   "cell_type": "code",
   "execution_count": 40,
   "id": "3ca3f7f3",
   "metadata": {},
   "outputs": [
    {
     "name": "stdout",
     "output_type": "stream",
     "text": [
      "train x shape: (65635, 31)\n",
      "train y shape: (65635,)\n",
      "val x shape: (16409, 31)\n",
      "val y shape: (16409,)\n"
     ]
    }
   ],
   "source": [
    "pca = PCA(n_components = 0.98)\n",
    "x_train = pca.fit_transform(x_train)\n",
    "x_val = pca.transform(x_val)\n",
    "\n",
    "print('train x shape:', x_train.shape)\n",
    "print('train y shape:', y_train.shape)\n",
    "print('val x shape:', x_val.shape)\n",
    "print('val y shape:', y_val.shape)"
   ]
  },
  {
   "cell_type": "code",
   "execution_count": 16,
   "id": "702bdbbc",
   "metadata": {},
   "outputs": [
    {
     "name": "stderr",
     "output_type": "stream",
     "text": [
      "C:\\Users\\cecnl-181\\anaconda3\\lib\\site-packages\\sklearn\\utils\\validation.py:70: FutureWarning: Pass criterion=gini as keyword args. From version 1.0 (renaming of 0.25) passing these as positional arguments will result in an error\n",
      "  warnings.warn(f\"Pass {args_msg} as keyword args. From version \"\n",
      "C:\\Users\\cecnl-181\\anaconda3\\lib\\site-packages\\sklearn\\utils\\validation.py:70: FutureWarning: Pass criterion=entropy as keyword args. From version 1.0 (renaming of 0.25) passing these as positional arguments will result in an error\n",
      "  warnings.warn(f\"Pass {args_msg} as keyword args. From version \"\n"
     ]
    }
   ],
   "source": [
    "criterion = ['gini', 'entropy']\n",
    "\n",
    "final_records = []\n",
    "for c in criterion:\n",
    "    record = []\n",
    "    record.append(c)\n",
    "    clf = DecisionTreeClassifier(c)\n",
    "    clf.fit(x_train, y_train)\n",
    "\n",
    "    me_list = metric(clf, x_val, y_val, None, True)\n",
    "    record += me_list\n",
    "    final_records.append(record)\n",
    "        \n",
    "df_smote_pca = pd.DataFrame(final_records, columns=['criterion', 'precision', 'recall', 'ROC', 'f1', 'acc'])\n",
    "        "
   ]
  },
  {
   "cell_type": "code",
   "execution_count": 17,
   "id": "2d3b35d6",
   "metadata": {},
   "outputs": [
    {
     "data": {
      "text/html": [
       "<div>\n",
       "<style scoped>\n",
       "    .dataframe tbody tr th:only-of-type {\n",
       "        vertical-align: middle;\n",
       "    }\n",
       "\n",
       "    .dataframe tbody tr th {\n",
       "        vertical-align: top;\n",
       "    }\n",
       "\n",
       "    .dataframe thead th {\n",
       "        text-align: right;\n",
       "    }\n",
       "</style>\n",
       "<table border=\"1\" class=\"dataframe\">\n",
       "  <thead>\n",
       "    <tr style=\"text-align: right;\">\n",
       "      <th></th>\n",
       "      <th>criterion</th>\n",
       "      <th>precision</th>\n",
       "      <th>recall</th>\n",
       "      <th>ROC</th>\n",
       "      <th>f1</th>\n",
       "      <th>acc</th>\n",
       "    </tr>\n",
       "  </thead>\n",
       "  <tbody>\n",
       "    <tr>\n",
       "      <th>0</th>\n",
       "      <td>gini</td>\n",
       "      <td>0.963295</td>\n",
       "      <td>0.981962</td>\n",
       "      <td>0.972271</td>\n",
       "      <td>0.972539</td>\n",
       "      <td>0.972271</td>\n",
       "    </tr>\n",
       "    <tr>\n",
       "      <th>1</th>\n",
       "      <td>entropy</td>\n",
       "      <td>0.966935</td>\n",
       "      <td>0.980134</td>\n",
       "      <td>0.973307</td>\n",
       "      <td>0.973490</td>\n",
       "      <td>0.973307</td>\n",
       "    </tr>\n",
       "  </tbody>\n",
       "</table>\n",
       "</div>"
      ],
      "text/plain": [
       "  criterion  precision    recall       ROC        f1       acc\n",
       "0      gini   0.963295  0.981962  0.972271  0.972539  0.972271\n",
       "1   entropy   0.966935  0.980134  0.973307  0.973490  0.973307"
      ]
     },
     "execution_count": 17,
     "metadata": {},
     "output_type": "execute_result"
    }
   ],
   "source": [
    "df_smote_pca"
   ]
  },
  {
   "cell_type": "code",
   "execution_count": 18,
   "id": "96a59d47",
   "metadata": {},
   "outputs": [],
   "source": [
    "df_smote_pca.to_csv('./c45/c45_result_smote_pca.csv')"
   ]
  },
  {
   "cell_type": "markdown",
   "id": "033ea897",
   "metadata": {},
   "source": [
    "# RandomSampling"
   ]
  },
  {
   "cell_type": "code",
   "execution_count": 19,
   "id": "fe2c7400",
   "metadata": {},
   "outputs": [],
   "source": [
    "tr = pd.read_excel('./downsampling_dataset/tr.xlsx')# (1406, 51)\n",
    "te = pd.read_excel('./downsampling_dataset/te.xlsx')"
   ]
  },
  {
   "cell_type": "code",
   "execution_count": 20,
   "id": "688b9617",
   "metadata": {},
   "outputs": [
    {
     "name": "stdout",
     "output_type": "stream",
     "text": [
      "train x shape: (1124, 50)\n",
      "train y shape: (1124,)\n",
      "val x shape: (282, 50)\n",
      "val y shape: (282,)\n"
     ]
    }
   ],
   "source": [
    "# get labels\n",
    "y_tr = tr['outcome']\n",
    "# get data\n",
    "col = tr.columns.to_list()\n",
    "del col[-1]\n",
    "x_tr = tr[col]\n",
    "\n",
    "x_train, x_val, y_train, y_val = train_test_split(x_tr, y_tr, test_size=0.2, random_state=8, stratify=tr[['outcome']])\n",
    "print('train x shape:', x_train.shape)\n",
    "print('train y shape:', y_train.shape)\n",
    "print('val x shape:', x_val.shape)\n",
    "print('val y shape:', y_val.shape)"
   ]
  },
  {
   "cell_type": "code",
   "execution_count": 21,
   "id": "c55d7cf4",
   "metadata": {},
   "outputs": [
    {
     "name": "stderr",
     "output_type": "stream",
     "text": [
      "C:\\Users\\cecnl-181\\anaconda3\\lib\\site-packages\\sklearn\\utils\\validation.py:70: FutureWarning: Pass criterion=gini as keyword args. From version 1.0 (renaming of 0.25) passing these as positional arguments will result in an error\n",
      "  warnings.warn(f\"Pass {args_msg} as keyword args. From version \"\n",
      "C:\\Users\\cecnl-181\\anaconda3\\lib\\site-packages\\sklearn\\utils\\validation.py:70: FutureWarning: Pass criterion=entropy as keyword args. From version 1.0 (renaming of 0.25) passing these as positional arguments will result in an error\n",
      "  warnings.warn(f\"Pass {args_msg} as keyword args. From version \"\n"
     ]
    }
   ],
   "source": [
    "criterion = ['gini', 'entropy']\n",
    "\n",
    "final_records = []\n",
    "for c in criterion:\n",
    "    record = []\n",
    "    record.append(c)\n",
    "    clf = DecisionTreeClassifier(c)\n",
    "    clf.fit(x_train, y_train)\n",
    "\n",
    "    me_list = metric(clf, x_val, y_val, None, True)\n",
    "    record += me_list\n",
    "    final_records.append(record)\n",
    "        \n",
    "df_rs = pd.DataFrame(final_records, columns=['criterion', 'precision', 'recall', 'ROC', 'f1', 'acc'])\n",
    "        "
   ]
  },
  {
   "cell_type": "code",
   "execution_count": 22,
   "id": "bd191251",
   "metadata": {},
   "outputs": [
    {
     "data": {
      "text/html": [
       "<div>\n",
       "<style scoped>\n",
       "    .dataframe tbody tr th:only-of-type {\n",
       "        vertical-align: middle;\n",
       "    }\n",
       "\n",
       "    .dataframe tbody tr th {\n",
       "        vertical-align: top;\n",
       "    }\n",
       "\n",
       "    .dataframe thead th {\n",
       "        text-align: right;\n",
       "    }\n",
       "</style>\n",
       "<table border=\"1\" class=\"dataframe\">\n",
       "  <thead>\n",
       "    <tr style=\"text-align: right;\">\n",
       "      <th></th>\n",
       "      <th>criterion</th>\n",
       "      <th>precision</th>\n",
       "      <th>recall</th>\n",
       "      <th>ROC</th>\n",
       "      <th>f1</th>\n",
       "      <th>acc</th>\n",
       "    </tr>\n",
       "  </thead>\n",
       "  <tbody>\n",
       "    <tr>\n",
       "      <th>0</th>\n",
       "      <td>gini</td>\n",
       "      <td>0.642857</td>\n",
       "      <td>0.638298</td>\n",
       "      <td>0.641844</td>\n",
       "      <td>0.640569</td>\n",
       "      <td>0.641844</td>\n",
       "    </tr>\n",
       "    <tr>\n",
       "      <th>1</th>\n",
       "      <td>entropy</td>\n",
       "      <td>0.678571</td>\n",
       "      <td>0.673759</td>\n",
       "      <td>0.677305</td>\n",
       "      <td>0.676157</td>\n",
       "      <td>0.677305</td>\n",
       "    </tr>\n",
       "  </tbody>\n",
       "</table>\n",
       "</div>"
      ],
      "text/plain": [
       "  criterion  precision    recall       ROC        f1       acc\n",
       "0      gini   0.642857  0.638298  0.641844  0.640569  0.641844\n",
       "1   entropy   0.678571  0.673759  0.677305  0.676157  0.677305"
      ]
     },
     "execution_count": 22,
     "metadata": {},
     "output_type": "execute_result"
    }
   ],
   "source": [
    "df_rs"
   ]
  },
  {
   "cell_type": "code",
   "execution_count": 23,
   "id": "22bb7265",
   "metadata": {},
   "outputs": [],
   "source": [
    "df_rs.to_csv('./c45/c45_result_rs.csv')"
   ]
  },
  {
   "cell_type": "markdown",
   "id": "e4627bcd",
   "metadata": {},
   "source": [
    "# RandomSampling w/ PCA"
   ]
  },
  {
   "cell_type": "code",
   "execution_count": 24,
   "id": "ba17ad1c",
   "metadata": {},
   "outputs": [
    {
     "name": "stdout",
     "output_type": "stream",
     "text": [
      "train x shape: (1124, 32)\n",
      "train y shape: (1124,)\n",
      "val x shape: (282, 32)\n",
      "val y shape: (282,)\n"
     ]
    }
   ],
   "source": [
    "pca = PCA(n_components = 0.98)\n",
    "x_train = pca.fit_transform(x_train)\n",
    "x_val = pca.transform(x_val)\n",
    "\n",
    "print('train x shape:', x_train.shape)\n",
    "print('train y shape:', y_train.shape)\n",
    "print('val x shape:', x_val.shape)\n",
    "print('val y shape:', y_val.shape)"
   ]
  },
  {
   "cell_type": "code",
   "execution_count": 25,
   "id": "6c8143e4",
   "metadata": {},
   "outputs": [
    {
     "name": "stderr",
     "output_type": "stream",
     "text": [
      "C:\\Users\\cecnl-181\\anaconda3\\lib\\site-packages\\sklearn\\utils\\validation.py:70: FutureWarning: Pass criterion=gini as keyword args. From version 1.0 (renaming of 0.25) passing these as positional arguments will result in an error\n",
      "  warnings.warn(f\"Pass {args_msg} as keyword args. From version \"\n",
      "C:\\Users\\cecnl-181\\anaconda3\\lib\\site-packages\\sklearn\\utils\\validation.py:70: FutureWarning: Pass criterion=entropy as keyword args. From version 1.0 (renaming of 0.25) passing these as positional arguments will result in an error\n",
      "  warnings.warn(f\"Pass {args_msg} as keyword args. From version \"\n"
     ]
    }
   ],
   "source": [
    "criterion = ['gini', 'entropy']\n",
    "\n",
    "final_records = []\n",
    "for c in criterion:\n",
    "    record = []\n",
    "    record.append(c)\n",
    "    clf = DecisionTreeClassifier(c)\n",
    "    clf.fit(x_train, y_train)\n",
    "\n",
    "    me_list = metric(clf, x_val, y_val, None, True)\n",
    "    record += me_list\n",
    "    final_records.append(record)\n",
    "        \n",
    "df_rs_pca = pd.DataFrame(final_records, columns=['criterion', 'precision', 'recall', 'ROC', 'f1', 'acc'])\n",
    "        "
   ]
  },
  {
   "cell_type": "code",
   "execution_count": 26,
   "id": "46f0d50e",
   "metadata": {},
   "outputs": [
    {
     "data": {
      "text/html": [
       "<div>\n",
       "<style scoped>\n",
       "    .dataframe tbody tr th:only-of-type {\n",
       "        vertical-align: middle;\n",
       "    }\n",
       "\n",
       "    .dataframe tbody tr th {\n",
       "        vertical-align: top;\n",
       "    }\n",
       "\n",
       "    .dataframe thead th {\n",
       "        text-align: right;\n",
       "    }\n",
       "</style>\n",
       "<table border=\"1\" class=\"dataframe\">\n",
       "  <thead>\n",
       "    <tr style=\"text-align: right;\">\n",
       "      <th></th>\n",
       "      <th>criterion</th>\n",
       "      <th>precision</th>\n",
       "      <th>recall</th>\n",
       "      <th>ROC</th>\n",
       "      <th>f1</th>\n",
       "      <th>acc</th>\n",
       "    </tr>\n",
       "  </thead>\n",
       "  <tbody>\n",
       "    <tr>\n",
       "      <th>0</th>\n",
       "      <td>gini</td>\n",
       "      <td>0.625954</td>\n",
       "      <td>0.581560</td>\n",
       "      <td>0.617021</td>\n",
       "      <td>0.602941</td>\n",
       "      <td>0.617021</td>\n",
       "    </tr>\n",
       "    <tr>\n",
       "      <th>1</th>\n",
       "      <td>entropy</td>\n",
       "      <td>0.622222</td>\n",
       "      <td>0.595745</td>\n",
       "      <td>0.617021</td>\n",
       "      <td>0.608696</td>\n",
       "      <td>0.617021</td>\n",
       "    </tr>\n",
       "  </tbody>\n",
       "</table>\n",
       "</div>"
      ],
      "text/plain": [
       "  criterion  precision    recall       ROC        f1       acc\n",
       "0      gini   0.625954  0.581560  0.617021  0.602941  0.617021\n",
       "1   entropy   0.622222  0.595745  0.617021  0.608696  0.617021"
      ]
     },
     "execution_count": 26,
     "metadata": {},
     "output_type": "execute_result"
    }
   ],
   "source": [
    "df_rs_pca"
   ]
  },
  {
   "cell_type": "code",
   "execution_count": 27,
   "id": "da510a61",
   "metadata": {},
   "outputs": [],
   "source": [
    "df_rs_pca.to_csv('./c45/c45_result_rs_pca.csv')"
   ]
  },
  {
   "cell_type": "markdown",
   "id": "1251ae99",
   "metadata": {},
   "source": [
    "#### After calculate four different datasets' metrics\n",
    "#### we want to use the best one \n",
    "#### so, let us check the performance of each dataset"
   ]
  },
  {
   "cell_type": "code",
   "execution_count": 41,
   "id": "ed63ff46",
   "metadata": {},
   "outputs": [
    {
     "data": {
      "text/html": [
       "<div>\n",
       "<style scoped>\n",
       "    .dataframe tbody tr th:only-of-type {\n",
       "        vertical-align: middle;\n",
       "    }\n",
       "\n",
       "    .dataframe tbody tr th {\n",
       "        vertical-align: top;\n",
       "    }\n",
       "\n",
       "    .dataframe thead th {\n",
       "        text-align: right;\n",
       "    }\n",
       "</style>\n",
       "<table border=\"1\" class=\"dataframe\">\n",
       "  <thead>\n",
       "    <tr style=\"text-align: right;\">\n",
       "      <th></th>\n",
       "      <th>criterion</th>\n",
       "      <th>precision</th>\n",
       "      <th>recall</th>\n",
       "      <th>ROC</th>\n",
       "      <th>f1</th>\n",
       "      <th>acc</th>\n",
       "    </tr>\n",
       "  </thead>\n",
       "  <tbody>\n",
       "    <tr>\n",
       "      <th>0</th>\n",
       "      <td>gini</td>\n",
       "      <td>0.963649</td>\n",
       "      <td>0.982206</td>\n",
       "      <td>0.972575</td>\n",
       "      <td>0.972839</td>\n",
       "      <td>0.972576</td>\n",
       "    </tr>\n",
       "    <tr>\n",
       "      <th>1</th>\n",
       "      <td>entropy</td>\n",
       "      <td>0.967893</td>\n",
       "      <td>0.980987</td>\n",
       "      <td>0.974221</td>\n",
       "      <td>0.974396</td>\n",
       "      <td>0.974221</td>\n",
       "    </tr>\n",
       "  </tbody>\n",
       "</table>\n",
       "</div>"
      ],
      "text/plain": [
       "  criterion  precision    recall       ROC        f1       acc\n",
       "0      gini   0.963649  0.982206  0.972575  0.972839  0.972576\n",
       "1   entropy   0.967893  0.980987  0.974221  0.974396  0.974221"
      ]
     },
     "execution_count": 41,
     "metadata": {},
     "output_type": "execute_result"
    }
   ],
   "source": [
    "df_smote\n",
    "# we can choose "
   ]
  },
  {
   "cell_type": "code",
   "execution_count": 29,
   "id": "ff34c2b7",
   "metadata": {},
   "outputs": [
    {
     "data": {
      "text/html": [
       "<div>\n",
       "<style scoped>\n",
       "    .dataframe tbody tr th:only-of-type {\n",
       "        vertical-align: middle;\n",
       "    }\n",
       "\n",
       "    .dataframe tbody tr th {\n",
       "        vertical-align: top;\n",
       "    }\n",
       "\n",
       "    .dataframe thead th {\n",
       "        text-align: right;\n",
       "    }\n",
       "</style>\n",
       "<table border=\"1\" class=\"dataframe\">\n",
       "  <thead>\n",
       "    <tr style=\"text-align: right;\">\n",
       "      <th></th>\n",
       "      <th>criterion</th>\n",
       "      <th>precision</th>\n",
       "      <th>recall</th>\n",
       "      <th>ROC</th>\n",
       "      <th>f1</th>\n",
       "      <th>acc</th>\n",
       "    </tr>\n",
       "  </thead>\n",
       "  <tbody>\n",
       "    <tr>\n",
       "      <th>0</th>\n",
       "      <td>gini</td>\n",
       "      <td>0.963295</td>\n",
       "      <td>0.981962</td>\n",
       "      <td>0.972271</td>\n",
       "      <td>0.972539</td>\n",
       "      <td>0.972271</td>\n",
       "    </tr>\n",
       "    <tr>\n",
       "      <th>1</th>\n",
       "      <td>entropy</td>\n",
       "      <td>0.966935</td>\n",
       "      <td>0.980134</td>\n",
       "      <td>0.973307</td>\n",
       "      <td>0.973490</td>\n",
       "      <td>0.973307</td>\n",
       "    </tr>\n",
       "  </tbody>\n",
       "</table>\n",
       "</div>"
      ],
      "text/plain": [
       "  criterion  precision    recall       ROC        f1       acc\n",
       "0      gini   0.963295  0.981962  0.972271  0.972539  0.972271\n",
       "1   entropy   0.966935  0.980134  0.973307  0.973490  0.973307"
      ]
     },
     "execution_count": 29,
     "metadata": {},
     "output_type": "execute_result"
    }
   ],
   "source": [
    "df_smote_pca"
   ]
  },
  {
   "cell_type": "code",
   "execution_count": 30,
   "id": "02057490",
   "metadata": {},
   "outputs": [
    {
     "data": {
      "text/html": [
       "<div>\n",
       "<style scoped>\n",
       "    .dataframe tbody tr th:only-of-type {\n",
       "        vertical-align: middle;\n",
       "    }\n",
       "\n",
       "    .dataframe tbody tr th {\n",
       "        vertical-align: top;\n",
       "    }\n",
       "\n",
       "    .dataframe thead th {\n",
       "        text-align: right;\n",
       "    }\n",
       "</style>\n",
       "<table border=\"1\" class=\"dataframe\">\n",
       "  <thead>\n",
       "    <tr style=\"text-align: right;\">\n",
       "      <th></th>\n",
       "      <th>criterion</th>\n",
       "      <th>precision</th>\n",
       "      <th>recall</th>\n",
       "      <th>ROC</th>\n",
       "      <th>f1</th>\n",
       "      <th>acc</th>\n",
       "    </tr>\n",
       "  </thead>\n",
       "  <tbody>\n",
       "    <tr>\n",
       "      <th>0</th>\n",
       "      <td>gini</td>\n",
       "      <td>0.642857</td>\n",
       "      <td>0.638298</td>\n",
       "      <td>0.641844</td>\n",
       "      <td>0.640569</td>\n",
       "      <td>0.641844</td>\n",
       "    </tr>\n",
       "    <tr>\n",
       "      <th>1</th>\n",
       "      <td>entropy</td>\n",
       "      <td>0.678571</td>\n",
       "      <td>0.673759</td>\n",
       "      <td>0.677305</td>\n",
       "      <td>0.676157</td>\n",
       "      <td>0.677305</td>\n",
       "    </tr>\n",
       "  </tbody>\n",
       "</table>\n",
       "</div>"
      ],
      "text/plain": [
       "  criterion  precision    recall       ROC        f1       acc\n",
       "0      gini   0.642857  0.638298  0.641844  0.640569  0.641844\n",
       "1   entropy   0.678571  0.673759  0.677305  0.676157  0.677305"
      ]
     },
     "execution_count": 30,
     "metadata": {},
     "output_type": "execute_result"
    }
   ],
   "source": [
    "df_rs"
   ]
  },
  {
   "cell_type": "code",
   "execution_count": 31,
   "id": "49975e5d",
   "metadata": {},
   "outputs": [
    {
     "data": {
      "text/html": [
       "<div>\n",
       "<style scoped>\n",
       "    .dataframe tbody tr th:only-of-type {\n",
       "        vertical-align: middle;\n",
       "    }\n",
       "\n",
       "    .dataframe tbody tr th {\n",
       "        vertical-align: top;\n",
       "    }\n",
       "\n",
       "    .dataframe thead th {\n",
       "        text-align: right;\n",
       "    }\n",
       "</style>\n",
       "<table border=\"1\" class=\"dataframe\">\n",
       "  <thead>\n",
       "    <tr style=\"text-align: right;\">\n",
       "      <th></th>\n",
       "      <th>criterion</th>\n",
       "      <th>precision</th>\n",
       "      <th>recall</th>\n",
       "      <th>ROC</th>\n",
       "      <th>f1</th>\n",
       "      <th>acc</th>\n",
       "    </tr>\n",
       "  </thead>\n",
       "  <tbody>\n",
       "    <tr>\n",
       "      <th>0</th>\n",
       "      <td>gini</td>\n",
       "      <td>0.625954</td>\n",
       "      <td>0.581560</td>\n",
       "      <td>0.617021</td>\n",
       "      <td>0.602941</td>\n",
       "      <td>0.617021</td>\n",
       "    </tr>\n",
       "    <tr>\n",
       "      <th>1</th>\n",
       "      <td>entropy</td>\n",
       "      <td>0.622222</td>\n",
       "      <td>0.595745</td>\n",
       "      <td>0.617021</td>\n",
       "      <td>0.608696</td>\n",
       "      <td>0.617021</td>\n",
       "    </tr>\n",
       "  </tbody>\n",
       "</table>\n",
       "</div>"
      ],
      "text/plain": [
       "  criterion  precision    recall       ROC        f1       acc\n",
       "0      gini   0.625954  0.581560  0.617021  0.602941  0.617021\n",
       "1   entropy   0.622222  0.595745  0.617021  0.608696  0.617021"
      ]
     },
     "execution_count": 31,
     "metadata": {},
     "output_type": "execute_result"
    }
   ],
   "source": [
    "df_rs_pca"
   ]
  },
  {
   "cell_type": "markdown",
   "id": "282f0e1e",
   "metadata": {},
   "source": [
    "### best dataset we choose smote w/o PCA"
   ]
  },
  {
   "cell_type": "code",
   "execution_count": 27,
   "id": "d8bd65c1",
   "metadata": {},
   "outputs": [
    {
     "name": "stdout",
     "output_type": "stream",
     "text": [
      "train x shape: (65635, 50)\n",
      "train y shape: (65635,)\n",
      "val x shape: (16409, 50)\n",
      "val y shape: (16409,)\n",
      "==============True=============\n",
      "Precision:  0.9643412707909537\n",
      "Recall:  0.982205971968312\n",
      "ROC score:  0.9729411137267207\n",
      "F1 score:  0.9731916435213137\n",
      "Accuracy score:  0.9729416783472484\n",
      "confusion matrix\n",
      "[[7906  298]\n",
      " [ 146 8059]]\n"
     ]
    },
    {
     "data": {
      "text/plain": [
       "[0.9643412707909537,\n",
       " 0.982205971968312,\n",
       " 0.9729411137267207,\n",
       " 0.9731916435213137,\n",
       " 0.9729416783472484]"
      ]
     },
     "execution_count": 27,
     "metadata": {},
     "output_type": "execute_result"
    }
   ],
   "source": [
    "# get labels\n",
    "y_tr = tr['outcome']\n",
    "# get data\n",
    "col = tr.columns.to_list()\n",
    "del col[-1]\n",
    "x_tr = tr[col]\n",
    "\n",
    "x_train, x_val, y_train, y_val = train_test_split(x_tr, y_tr, test_size=0.2, random_state=8, stratify=tr[['outcome']])\n",
    "\n",
    "print('train x shape:', x_train.shape)\n",
    "print('train y shape:', y_train.shape)\n",
    "print('val x shape:', x_val.shape)\n",
    "print('val y shape:', y_val.shape)\n",
    "\n",
    "clf = DecisionTreeClassifier()\n",
    "clf.fit(x_train, y_train)\n",
    "\n",
    "metric(clf, x_val, y_val, True, True)"
   ]
  },
  {
   "cell_type": "code",
   "execution_count": 10,
   "id": "31e265ac",
   "metadata": {},
   "outputs": [],
   "source": [
    "from sklearn.tree import export_graphviz\n",
    "import os\n",
    "\n",
    "cols = tr.columns[:-1]\n",
    "with open(\"./c45/Tree.dot\", 'w') as f:\n",
    "    export_graphviz(clf,\n",
    "                    feature_names=cols,\n",
    "                    filled=True,\n",
    "                    rounded=True,\n",
    "                    out_file=f)"
   ]
  },
  {
   "cell_type": "code",
   "execution_count": 23,
   "id": "3669b431",
   "metadata": {},
   "outputs": [
    {
     "data": {
      "text/plain": [
       "Fluid and Electrolyte Disorders            0.000000\n",
       "cci3                                       0.000000\n",
       "Hypothyroidism                             0.000000\n",
       "elx3                                       0.000000\n",
       "Valvular Disease                           1.000000\n",
       "Diagnosis_5                                0.000000\n",
       "Anemia_0                                   1.000000\n",
       "Other Neurological Disorders               0.000000\n",
       "Obesity                                    0.000000\n",
       "Congestive Heart Failure                   0.000000\n",
       "Psyciatric disorder_0                      1.000000\n",
       "Renal Failure                              0.000000\n",
       "Diagnosis_2                                1.000000\n",
       "Diagnosis_3                                0.000000\n",
       "Lung disease_0                             1.000000\n",
       "Solid Tumor without Metastasis             0.000000\n",
       "Peptic Ulcer Disease excluding bleeding    0.000000\n",
       "Rheumatoid Arthritis/collagen              1.000000\n",
       "Liver Disease                              0.000000\n",
       "Heart disease_0                            0.000000\n",
       "elx1                                       1.000000\n",
       "Diabetes                                   0.000000\n",
       "Commercial_ALBC                            0.000000\n",
       "Blood_trans                                0.000000\n",
       "Drain                                      0.000000\n",
       "Diagnosis_0                                0.000000\n",
       "Non_commercial_ALBC                        1.000000\n",
       "Hypertension Uncomplicated                 0.000000\n",
       "cci1                                       0.000000\n",
       "SEX_F                                      1.000000\n",
       "CBC_MCV                                    0.628939\n",
       "BUN                                        0.215698\n",
       "UA                                         0.312245\n",
       "GPT                                        0.068966\n",
       "GOT                                        0.146341\n",
       "CBC_HG                                     0.565517\n",
       "OP_time_hour                               0.518987\n",
       "CBC_RBC                                    0.477833\n",
       "CBC_MCHC                                   0.632787\n",
       "AGE                                        0.565789\n",
       "ASA                                        1.000000\n",
       "CBC_Platelet                               0.412242\n",
       "Na                                         0.417500\n",
       "CBC_WBC                                    0.385768\n",
       "CBC_RDWCV                                  0.309091\n",
       "ALB                                        0.171233\n",
       "K                                          0.409556\n",
       "Crea                                       0.130346\n",
       "CBC_RDW                                    0.138071\n",
       "LOS                                        0.147059\n",
       "Name: 0, dtype: float64"
      ]
     },
     "execution_count": 23,
     "metadata": {},
     "output_type": "execute_result"
    }
   ],
   "source": [
    "te.iloc[0, :]"
   ]
  },
  {
   "cell_type": "code",
   "execution_count": 24,
   "id": "153ddffb",
   "metadata": {},
   "outputs": [
    {
     "data": {
      "text/plain": [
       "array([0.        , 0.        , 0.        , 0.        , 1.        ,\n",
       "       0.        , 1.        , 0.        , 0.        , 0.        ,\n",
       "       1.        , 0.        , 1.        , 0.        , 1.        ,\n",
       "       0.        , 0.        , 1.        , 0.        , 0.        ,\n",
       "       1.        , 0.        , 0.        , 0.        , 0.        ,\n",
       "       0.        , 1.        , 0.        , 0.        , 1.        ,\n",
       "       0.6289394 , 0.21569802, 0.3122449 , 0.06896552, 0.14634146,\n",
       "       0.56551724, 0.51898734, 0.47783251, 0.63278689, 0.56578947,\n",
       "       1.        , 0.41224152, 0.4175    , 0.38576779, 0.30909091,\n",
       "       0.17123288, 0.40955631, 0.13034623, 0.13807107, 0.14705882])"
      ]
     },
     "execution_count": 24,
     "metadata": {},
     "output_type": "execute_result"
    }
   ],
   "source": [
    "te.values[0]"
   ]
  },
  {
   "cell_type": "code",
   "execution_count": 28,
   "id": "3ee52845",
   "metadata": {},
   "outputs": [
    {
     "name": "stderr",
     "output_type": "stream",
     "text": [
      "C:\\Users\\cecnl-181\\anaconda3\\lib\\site-packages\\sklearn\\base.py:450: UserWarning: X does not have valid feature names, but DecisionTreeClassifier was fitted with feature names\n",
      "  warnings.warn(\n"
     ]
    },
    {
     "data": {
      "text/plain": [
       "array([1], dtype=int64)"
      ]
     },
     "execution_count": 28,
     "metadata": {},
     "output_type": "execute_result"
    }
   ],
   "source": [
    "clf.predict(te.iloc[0, :].values.reshape(1, -1))"
   ]
  },
  {
   "cell_type": "code",
   "execution_count": 29,
   "id": "6d21a14b",
   "metadata": {},
   "outputs": [
    {
     "name": "stdout",
     "output_type": "stream",
     "text": [
      "final prediction of testing data\n"
     ]
    },
    {
     "data": {
      "text/plain": [
       "array([1, 0, 0, 0, 0, 1, 1, 1, 1, 1, 1, 1, 1, 1, 1, 1, 1, 1, 1, 0, 1, 1,\n",
       "       0, 1, 1, 1, 1, 0, 1, 1, 1, 1, 1, 0, 1, 1, 1, 1, 1, 1, 1, 1, 1, 1,\n",
       "       1, 1, 1, 0, 1, 0, 1, 0, 0, 1, 1, 1, 1, 1, 1, 1, 0, 0, 1, 1, 1, 0,\n",
       "       0, 1, 0, 1, 1, 1, 1, 1, 1, 1, 1, 1, 1, 1, 0, 0, 1, 1, 1, 0, 1, 1,\n",
       "       1, 1, 1, 1, 1, 0, 1, 1, 0, 0, 1, 1, 1, 1, 0, 0, 1, 1, 1, 1, 1, 1,\n",
       "       1, 1, 1, 1, 1, 1, 1, 1, 1, 1, 0, 1, 0, 1, 0, 1, 1, 1, 1, 1, 1, 1,\n",
       "       1, 1, 0, 0, 1, 0, 1, 0, 1, 0, 1, 0, 1, 1, 1, 1, 0, 1, 1, 1, 0, 1,\n",
       "       1, 1, 1, 1, 0, 1, 0, 0, 1, 0, 1, 1, 1, 1, 1, 0, 1, 1, 1, 0, 1, 1,\n",
       "       1, 1, 1, 1, 1, 1, 1, 1, 1, 1, 1, 1, 1, 1, 1, 1, 1, 1, 1, 1, 1, 1,\n",
       "       1, 1, 1, 0, 1, 1, 1, 0, 1, 1, 1, 1, 1, 1, 1, 1, 1, 1, 0, 1, 1, 1,\n",
       "       0, 1, 1, 0, 1, 0, 0, 1, 0, 0, 0, 1, 1, 1, 0, 1, 1, 1, 1, 1, 0, 1,\n",
       "       1, 1, 0, 1, 1, 1, 0, 0, 1, 0, 1, 1, 1, 1, 1, 1, 1, 1, 1, 1, 0, 1,\n",
       "       1, 1, 1, 1, 0, 1, 0, 0, 1, 1, 1, 1, 0, 1, 0, 0, 1, 1, 1, 1, 1, 1,\n",
       "       1, 0, 1, 1, 1, 1, 1, 0, 1, 1, 0, 1, 0, 1, 1, 1, 1, 1, 1, 1, 0, 1,\n",
       "       1, 1, 1, 1, 0, 0, 1, 1, 1, 1, 0, 1, 1, 1, 1, 1, 1, 1, 1, 0, 1, 1,\n",
       "       0, 1, 1, 1, 1, 1, 1, 1, 1, 1, 0, 1, 1, 1, 1, 0, 1, 0, 1, 0, 1, 1,\n",
       "       1, 1, 1, 1, 1, 1, 1, 0, 1, 0, 0, 1, 1, 1, 0, 1, 0, 1, 1, 0, 1, 1,\n",
       "       1, 1, 1, 1, 1, 1, 1, 1, 1, 1, 1, 1, 1, 1, 1, 0, 0, 0, 1, 1, 1, 1,\n",
       "       1, 1, 1, 0, 1, 1, 1, 1, 1, 1, 1, 1, 0, 1, 1, 1, 1, 1, 1, 1, 1, 1,\n",
       "       1, 1, 1, 0, 1, 1, 1, 1, 1, 1, 1, 1, 1, 0, 1, 1, 1, 1, 0, 0, 1, 1,\n",
       "       1, 1, 1, 0, 0, 0, 1, 1, 0, 1, 0, 1, 1, 1, 0, 0, 1, 1, 1, 1, 1, 1,\n",
       "       1, 1, 1, 1, 0, 0, 1, 0, 1, 0, 1, 1, 0, 1, 1, 1, 1, 1, 1, 1, 0, 1,\n",
       "       1, 1, 1, 1, 1], dtype=int64)"
      ]
     },
     "execution_count": 29,
     "metadata": {},
     "output_type": "execute_result"
    }
   ],
   "source": [
    "print('final prediction of testing data')\n",
    "clf.predict(te)"
   ]
  },
  {
   "cell_type": "code",
   "execution_count": null,
   "id": "3e5ce604",
   "metadata": {},
   "outputs": [],
   "source": []
  },
  {
   "cell_type": "code",
   "execution_count": null,
   "id": "e2c039ac",
   "metadata": {},
   "outputs": [],
   "source": []
  }
 ],
 "metadata": {
  "kernelspec": {
   "display_name": "Python 3",
   "language": "python",
   "name": "python3"
  },
  "language_info": {
   "codemirror_mode": {
    "name": "ipython",
    "version": 3
   },
   "file_extension": ".py",
   "mimetype": "text/x-python",
   "name": "python",
   "nbconvert_exporter": "python",
   "pygments_lexer": "ipython3",
   "version": "3.8.8"
  }
 },
 "nbformat": 4,
 "nbformat_minor": 5
}
