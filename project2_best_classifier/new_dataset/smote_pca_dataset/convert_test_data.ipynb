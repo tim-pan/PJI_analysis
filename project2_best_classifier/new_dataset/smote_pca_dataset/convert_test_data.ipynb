{
 "cells": [
  {
   "cell_type": "code",
   "execution_count": 1,
   "id": "aff9905d",
   "metadata": {},
   "outputs": [],
   "source": [
    "import pandas as pd\n",
    "from sklearn.metrics import (\n",
    "    precision_score, recall_score, roc_auc_score, f1_score, confusion_matrix, accuracy_score\n",
    "    )\n",
    "import pandas as pd\n",
    "from sklearn.model_selection import train_test_split\n",
    "from sklearn.decomposition import PCA\n",
    "\n",
    "te = pd.read_excel('../smote_dataset/test_final.xlsx')\n",
    "tr = pd.read_excel('../smote_dataset/tr.xlsx')"
   ]
  },
  {
   "cell_type": "code",
   "execution_count": 2,
   "id": "958bb750",
   "metadata": {},
   "outputs": [
    {
     "name": "stdout",
     "output_type": "stream",
     "text": [
      "train x shape: (65635, 50)\n",
      "train y shape: (65635,)\n",
      "val x shape: (16409, 50)\n",
      "val y shape: (16409,)\n"
     ]
    }
   ],
   "source": [
    "# get labels\n",
    "y_tr = tr['outcome']\n",
    "# get data\n",
    "col = tr.columns.to_list()\n",
    "del col[-1]\n",
    "x_tr = tr[col]\n",
    "\n",
    "x_train, x_val, y_train, y_val = train_test_split(x_tr, y_tr, test_size=0.2, random_state=8, stratify=tr[['outcome']])\n",
    "print('train x shape:', x_train.shape)\n",
    "print('train y shape:', y_train.shape)\n",
    "print('val x shape:', x_val.shape)\n",
    "print('val y shape:', y_val.shape)\n"
   ]
  },
  {
   "cell_type": "code",
   "execution_count": 3,
   "id": "71673440",
   "metadata": {},
   "outputs": [
    {
     "name": "stdout",
     "output_type": "stream",
     "text": [
      "train x shape: (65635, 31)\n",
      "train y shape: (65635,)\n",
      "val x shape: (16409, 31)\n",
      "val y shape: (16409,)\n",
      "test x shape: (489, 31)\n"
     ]
    }
   ],
   "source": [
    "pca = PCA(n_components = 0.98)\n",
    "x_train = pca.fit_transform(x_train)\n",
    "x_val = pca.transform(x_val)\n",
    "x_test = pca.transform(te)\n",
    "print('train x shape:', x_train.shape)\n",
    "print('train y shape:', y_train.shape)\n",
    "print('val x shape:', x_val.shape)\n",
    "print('val y shape:', y_val.shape)\n",
    "print('test x shape:', x_test.shape)"
   ]
  },
  {
   "cell_type": "code",
   "execution_count": 4,
   "id": "8ef1756e",
   "metadata": {},
   "outputs": [],
   "source": [
    "x_test = pd.DataFrame(x_test)"
   ]
  },
  {
   "cell_type": "code",
   "execution_count": 5,
   "id": "dac7d55c",
   "metadata": {},
   "outputs": [],
   "source": [
    "# Create a Pandas Excel writer using XlsxWriter as the engine.\n",
    "writer = pd.ExcelWriter('./test_final.xlsx', engine='xlsxwriter')\n",
    "\n",
    "# Convert the dataframe to an XlsxWriter Excel object.\n",
    "x_test.to_excel(writer, sheet_name='Sheet1', index=False)\n",
    "\n",
    "# Close the Pandas Excel writer and output the Excel file.\n",
    "writer.save()"
   ]
  },
  {
   "cell_type": "code",
   "execution_count": null,
   "id": "4b1be355",
   "metadata": {},
   "outputs": [],
   "source": []
  }
 ],
 "metadata": {
  "kernelspec": {
   "display_name": "Python 3",
   "language": "python",
   "name": "python3"
  },
  "language_info": {
   "codemirror_mode": {
    "name": "ipython",
    "version": 3
   },
   "file_extension": ".py",
   "mimetype": "text/x-python",
   "name": "python",
   "nbconvert_exporter": "python",
   "pygments_lexer": "ipython3",
   "version": "3.8.8"
  }
 },
 "nbformat": 4,
 "nbformat_minor": 5
}
