{
 "cells": [
  {
   "cell_type": "markdown",
   "id": "8c63a815",
   "metadata": {},
   "source": [
    "## read xlsx file\n",
    "this file aims to deal with commensurate issue</br>\n",
    "as well as correlation between features</br>\n",
    "please notice that</br>\n",
    "the categorical attrs in columns are all interval attrs or binary attrs(0 or 1)</br>\n",
    "so, we don't need to convert any attr to onehot encoding.\n"
   ]
  },
  {
   "cell_type": "code",
   "execution_count": 1,
   "id": "8869d2f1",
   "metadata": {},
   "outputs": [],
   "source": [
    "import pandas as pd\n",
    "tr = pd.read_excel('./temp/3_data_transform.xlsx')"
   ]
  },
  {
   "cell_type": "code",
   "execution_count": 2,
   "id": "5f92f9e0",
   "metadata": {},
   "outputs": [
    {
     "data": {
      "text/plain": [
       "(1406, 51)"
      ]
     },
     "execution_count": 2,
     "metadata": {},
     "output_type": "execute_result"
    }
   ],
   "source": [
    "tr.shape#expected 68 attr(include outcome)"
   ]
  },
  {
   "cell_type": "markdown",
   "id": "d2a67b69",
   "metadata": {},
   "source": [
    "### step1: try PCA to do dimension reduction"
   ]
  },
  {
   "cell_type": "code",
   "execution_count": 3,
   "id": "41abdea1",
   "metadata": {},
   "outputs": [
    {
     "name": "stdout",
     "output_type": "stream",
     "text": [
      "(1406, 50)\n",
      "(1406,)\n"
     ]
    }
   ],
   "source": [
    "tr_x = tr.iloc[:, 1:]\n",
    "print(tr_x.shape)\n",
    "tr_y = tr['outcome']\n",
    "print(tr_y.shape)"
   ]
  },
  {
   "cell_type": "code",
   "execution_count": 10,
   "id": "f13c8af1",
   "metadata": {},
   "outputs": [
    {
     "name": "stdout",
     "output_type": "stream",
     "text": [
      "(984, 12)\n",
      "(984, 15)\n",
      "(984, 18)\n",
      "(984, 25)\n",
      "(984, 34)\n",
      "[12, 15, 18, 25, 34]\n"
     ]
    },
    {
     "data": {
      "image/png": "[encoded data removed]",
      "text/plain": [
       "<Figure size 432x288 with 1 Axes>"
      ]
     },
     "metadata": {
      "needs_background": "light"
     },
     "output_type": "display_data"
    }
   ],
   "source": [
    "import numpy as np\n",
    "from sklearn.decomposition import PCA\n",
    "from sklearn.discriminant_analysis import LinearDiscriminantAnalysis\n",
    "from imblearn.over_sampling import SMOTE\n",
    "from imblearn.under_sampling import RandomUnderSampler\n",
    "from sklearn.model_selection import train_test_split\n",
    "import matplotlib.pyplot as plt\n",
    "\n",
    "X_train, X_test, y_train, y_test = train_test_split(tr_x, tr_y, test_size=0.3, random_state=42, stratify=tr[['outcome']])\n",
    "ratio = [0.8, 0.85, 0.9, 0.95, 0.99]\n",
    "comp = []\n",
    "for c in ratio:\n",
    "    X_train, X_test, y_train, y_test = train_test_split(tr_x, tr_y, test_size=0.3, random_state=42, stratify=tr[['outcome']])\n",
    "    pca = PCA(n_components=c)\n",
    "    X_train = pca.fit_transform(X_train)\n",
    "    print(X_train.shape)\n",
    "    X_test = pca.transform(X_test)\n",
    "    comp.append(X_train.shape[1])\n",
    "\n",
    "plt.plot(comp, ratio)\n",
    "print(comp)\n",
    "\n",
    "# lda = LinearDiscriminantAnalysis(n_components=0.99)\n",
    "# X_train = pca.fit_transform(X_train, y_train)\n",
    "# X_test = pca.transform(X_test)\n"
   ]
  },
  {
   "cell_type": "code",
   "execution_count": 11,
   "id": "4814f070",
   "metadata": {},
   "outputs": [
    {
     "data": {
      "text/plain": [
       "array([[ 0.27578677,  0.93517483,  1.06051934, ..., -0.07526577,\n",
       "         0.07204977, -0.05886011],\n",
       "       [ 0.35530528, -0.29937914, -0.56435579, ...,  0.05163997,\n",
       "         0.01377517,  0.0214055 ],\n",
       "       [-0.05949161,  1.31679414, -0.56286592, ..., -0.01734353,\n",
       "        -0.14134926, -0.00443258],\n",
       "       ...,\n",
       "       [-0.71480378,  0.12900522,  0.55201797, ..., -0.01351938,\n",
       "         0.04884424, -0.00986348],\n",
       "       [ 0.00594115, -0.61535777,  0.66265051, ...,  0.05042019,\n",
       "         0.03668469,  0.00424114],\n",
       "       [-0.62795146,  0.10178177,  0.08255831, ..., -0.06162165,\n",
       "         0.11512652, -0.01685337]])"
      ]
     },
     "execution_count": 11,
     "metadata": {},
     "output_type": "execute_result"
    }
   ],
   "source": [
    "X_train"
   ]
  },
  {
   "cell_type": "markdown",
   "id": "05c7a045",
   "metadata": {},
   "source": [
    "### step2:try some classifier"
   ]
  },
  {
   "cell_type": "code",
   "execution_count": 12,
   "id": "c5dee1aa",
   "metadata": {},
   "outputs": [],
   "source": [
    "from sklearn import tree\n",
    "from sklearn.metrics import f1_score, recall_score, precision_score, confusion_matrix, accuracy_score, roc_auc_score\n",
    "\n",
    "clf = tree.DecisionTreeClassifier()\n",
    "clf = clf.fit(X_train, y_train)"
   ]
  },
  {
   "cell_type": "code",
   "execution_count": 13,
   "id": "0814e2a5",
   "metadata": {},
   "outputs": [],
   "source": [
    "#train\n",
    "y_pred = clf.predict(X_train)\n",
    "\n",
    "f1 = f1_score(y_pred, y_train)\n",
    "re = recall_score(y_pred, y_train)\n",
    "prec = precision_score(y_pred, y_train)\n",
    "cm = confusion_matrix(y_pred, y_train)\n",
    "acc = accuracy_score(y_pred, y_train)\n",
    "roc = roc_auc_score(y_pred, y_train)"
   ]
  },
  {
   "cell_type": "code",
   "execution_count": 14,
   "id": "bd6b3c39",
   "metadata": {},
   "outputs": [
    {
     "name": "stdout",
     "output_type": "stream",
     "text": [
      "train\n",
      "f1: 1.0\n",
      "recall: 1.0\n",
      "precision: 1.0\n",
      "accuracy: 1.0\n",
      "roc: 1.0\n",
      "confusion_matrix:\n",
      " [[492   0]\n",
      " [  0 492]]\n"
     ]
    }
   ],
   "source": [
    "print('train')\n",
    "print('f1:', f1)\n",
    "print('recall:', re)\n",
    "print('precision:', prec)\n",
    "print('accuracy:', acc)\n",
    "print('roc:', roc)\n",
    "print('confusion_matrix:\\n', cm)"
   ]
  },
  {
   "cell_type": "code",
   "execution_count": 15,
   "id": "fb579a19",
   "metadata": {},
   "outputs": [],
   "source": [
    "#test\n",
    "y_pred = clf.predict(X_test)\n",
    "f1 = f1_score(y_pred, y_test)\n",
    "re = recall_score(y_pred, y_test)\n",
    "prec = precision_score(y_pred, y_test)\n",
    "cm = confusion_matrix(y_pred, y_test)\n",
    "acc = accuracy_score(y_pred, y_test)\n",
    "roc = roc_auc_score(y_pred, y_test)"
   ]
  },
  {
   "cell_type": "code",
   "execution_count": 16,
   "id": "faa8d961",
   "metadata": {},
   "outputs": [
    {
     "name": "stdout",
     "output_type": "stream",
     "text": [
      "test\n",
      "f1: 0.98812351543943\n",
      "recall: 0.9904761904761905\n",
      "precision: 0.985781990521327\n",
      "accuracy: 0.9881516587677726\n",
      "roc: 0.988162623539982\n",
      "confusion_matrix:\n",
      " [[209   3]\n",
      " [  2 208]]\n"
     ]
    }
   ],
   "source": [
    "print('test')\n",
    "print('f1:', f1)\n",
    "print('recall:', re)\n",
    "print('precision:', prec)\n",
    "print('accuracy:', acc)\n",
    "print('roc:', roc)\n",
    "print('confusion_matrix:\\n', cm)\n",
    "#用了pca反而各種metric都下降\n",
    "#lda也是"
   ]
  },
  {
   "cell_type": "code",
   "execution_count": 17,
   "id": "21da80fc",
   "metadata": {},
   "outputs": [
    {
     "data": {
      "text/plain": [
       "(1406, 51)"
      ]
     },
     "execution_count": 17,
     "metadata": {},
     "output_type": "execute_result"
    }
   ],
   "source": [
    "tr.shape"
   ]
  },
  {
   "cell_type": "markdown",
   "id": "f53b14ab",
   "metadata": {},
   "source": [
    "### finally save the outcome"
   ]
  },
  {
   "cell_type": "code",
   "execution_count": 18,
   "id": "254a6ed6",
   "metadata": {},
   "outputs": [],
   "source": [
    "# Create a Pandas Excel writer using XlsxWriter as the engine.\n",
    "writer = pd.ExcelWriter('./temp/4_data_reduction.xlsx', engine='xlsxwriter')\n",
    "\n",
    "# Convert the dataframe to an XlsxWriter Excel object.\n",
    "tr.to_excel(writer, sheet_name='Sheet1', index=False)\n",
    "\n",
    "# Close the Pandas Excel writer and output the Excel file.\n",
    "writer.save()"
   ]
  },
  {
   "cell_type": "code",
   "execution_count": 19,
   "id": "7fbe4f73",
   "metadata": {},
   "outputs": [
    {
     "data": {
      "text/html": [
       "<div>\n",
       "<style scoped>\n",
       "    .dataframe tbody tr th:only-of-type {\n",
       "        vertical-align: middle;\n",
       "    }\n",
       "\n",
       "    .dataframe tbody tr th {\n",
       "        vertical-align: top;\n",
       "    }\n",
       "\n",
       "    .dataframe thead th {\n",
       "        text-align: right;\n",
       "    }\n",
       "</style>\n",
       "<table border=\"1\" class=\"dataframe\">\n",
       "  <thead>\n",
       "    <tr style=\"text-align: right;\">\n",
       "      <th></th>\n",
       "      <th>Diagnosis_5</th>\n",
       "      <th>Coagulopathy</th>\n",
       "      <th>Alcohol Abuse</th>\n",
       "      <th>Hypothyroidism</th>\n",
       "      <th>Anemia_0</th>\n",
       "      <th>Other Neurological Disorders</th>\n",
       "      <th>Renal Failure</th>\n",
       "      <th>elx3</th>\n",
       "      <th>Psyciatric disorder_0</th>\n",
       "      <th>Congestive Heart Failure</th>\n",
       "      <th>...</th>\n",
       "      <th>CBC_MCHC</th>\n",
       "      <th>GOT</th>\n",
       "      <th>CBC_WBC</th>\n",
       "      <th>OP_time_hour</th>\n",
       "      <th>CBC_RDWCV</th>\n",
       "      <th>K</th>\n",
       "      <th>ALB</th>\n",
       "      <th>Crea</th>\n",
       "      <th>CBC_RDW</th>\n",
       "      <th>outcome</th>\n",
       "    </tr>\n",
       "  </thead>\n",
       "  <tbody>\n",
       "    <tr>\n",
       "      <th>0</th>\n",
       "      <td>0</td>\n",
       "      <td>0</td>\n",
       "      <td>0</td>\n",
       "      <td>0</td>\n",
       "      <td>1</td>\n",
       "      <td>0</td>\n",
       "      <td>0</td>\n",
       "      <td>0</td>\n",
       "      <td>1</td>\n",
       "      <td>0</td>\n",
       "      <td>...</td>\n",
       "      <td>0.598675</td>\n",
       "      <td>0.062684</td>\n",
       "      <td>0.029181</td>\n",
       "      <td>0.207585</td>\n",
       "      <td>0.158672</td>\n",
       "      <td>0.492624</td>\n",
       "      <td>0.624085</td>\n",
       "      <td>0.100308</td>\n",
       "      <td>0.256115</td>\n",
       "      <td>0</td>\n",
       "    </tr>\n",
       "    <tr>\n",
       "      <th>1</th>\n",
       "      <td>0</td>\n",
       "      <td>0</td>\n",
       "      <td>0</td>\n",
       "      <td>0</td>\n",
       "      <td>1</td>\n",
       "      <td>0</td>\n",
       "      <td>0</td>\n",
       "      <td>0</td>\n",
       "      <td>1</td>\n",
       "      <td>0</td>\n",
       "      <td>...</td>\n",
       "      <td>0.529801</td>\n",
       "      <td>0.055900</td>\n",
       "      <td>0.022650</td>\n",
       "      <td>0.197605</td>\n",
       "      <td>0.151005</td>\n",
       "      <td>0.463808</td>\n",
       "      <td>0.567798</td>\n",
       "      <td>0.064322</td>\n",
       "      <td>0.066547</td>\n",
       "      <td>0</td>\n",
       "    </tr>\n",
       "    <tr>\n",
       "      <th>2</th>\n",
       "      <td>0</td>\n",
       "      <td>0</td>\n",
       "      <td>0</td>\n",
       "      <td>0</td>\n",
       "      <td>1</td>\n",
       "      <td>0</td>\n",
       "      <td>0</td>\n",
       "      <td>0</td>\n",
       "      <td>1</td>\n",
       "      <td>0</td>\n",
       "      <td>...</td>\n",
       "      <td>0.622517</td>\n",
       "      <td>0.059735</td>\n",
       "      <td>0.030578</td>\n",
       "      <td>0.277312</td>\n",
       "      <td>0.137447</td>\n",
       "      <td>0.502573</td>\n",
       "      <td>0.449900</td>\n",
       "      <td>0.117212</td>\n",
       "      <td>0.620504</td>\n",
       "      <td>0</td>\n",
       "    </tr>\n",
       "    <tr>\n",
       "      <th>3</th>\n",
       "      <td>0</td>\n",
       "      <td>0</td>\n",
       "      <td>0</td>\n",
       "      <td>0</td>\n",
       "      <td>1</td>\n",
       "      <td>0</td>\n",
       "      <td>0</td>\n",
       "      <td>0</td>\n",
       "      <td>0</td>\n",
       "      <td>0</td>\n",
       "      <td>...</td>\n",
       "      <td>0.597792</td>\n",
       "      <td>0.073451</td>\n",
       "      <td>0.031635</td>\n",
       "      <td>0.337325</td>\n",
       "      <td>0.133707</td>\n",
       "      <td>0.492739</td>\n",
       "      <td>0.597605</td>\n",
       "      <td>0.084598</td>\n",
       "      <td>0.255635</td>\n",
       "      <td>0</td>\n",
       "    </tr>\n",
       "    <tr>\n",
       "      <th>4</th>\n",
       "      <td>0</td>\n",
       "      <td>0</td>\n",
       "      <td>0</td>\n",
       "      <td>0</td>\n",
       "      <td>1</td>\n",
       "      <td>0</td>\n",
       "      <td>0</td>\n",
       "      <td>0</td>\n",
       "      <td>1</td>\n",
       "      <td>0</td>\n",
       "      <td>...</td>\n",
       "      <td>0.615011</td>\n",
       "      <td>0.056342</td>\n",
       "      <td>0.035447</td>\n",
       "      <td>0.298736</td>\n",
       "      <td>0.149790</td>\n",
       "      <td>0.448256</td>\n",
       "      <td>0.630739</td>\n",
       "      <td>0.091261</td>\n",
       "      <td>0.301799</td>\n",
       "      <td>0</td>\n",
       "    </tr>\n",
       "    <tr>\n",
       "      <th>...</th>\n",
       "      <td>...</td>\n",
       "      <td>...</td>\n",
       "      <td>...</td>\n",
       "      <td>...</td>\n",
       "      <td>...</td>\n",
       "      <td>...</td>\n",
       "      <td>...</td>\n",
       "      <td>...</td>\n",
       "      <td>...</td>\n",
       "      <td>...</td>\n",
       "      <td>...</td>\n",
       "      <td>...</td>\n",
       "      <td>...</td>\n",
       "      <td>...</td>\n",
       "      <td>...</td>\n",
       "      <td>...</td>\n",
       "      <td>...</td>\n",
       "      <td>...</td>\n",
       "      <td>...</td>\n",
       "      <td>...</td>\n",
       "      <td>...</td>\n",
       "    </tr>\n",
       "    <tr>\n",
       "      <th>1401</th>\n",
       "      <td>0</td>\n",
       "      <td>0</td>\n",
       "      <td>0</td>\n",
       "      <td>0</td>\n",
       "      <td>1</td>\n",
       "      <td>0</td>\n",
       "      <td>0</td>\n",
       "      <td>0</td>\n",
       "      <td>1</td>\n",
       "      <td>0</td>\n",
       "      <td>...</td>\n",
       "      <td>0.598234</td>\n",
       "      <td>0.090708</td>\n",
       "      <td>0.035561</td>\n",
       "      <td>0.278643</td>\n",
       "      <td>0.185601</td>\n",
       "      <td>0.451801</td>\n",
       "      <td>0.319361</td>\n",
       "      <td>0.093152</td>\n",
       "      <td>0.241847</td>\n",
       "      <td>1</td>\n",
       "    </tr>\n",
       "    <tr>\n",
       "      <th>1402</th>\n",
       "      <td>0</td>\n",
       "      <td>0</td>\n",
       "      <td>1</td>\n",
       "      <td>0</td>\n",
       "      <td>1</td>\n",
       "      <td>0</td>\n",
       "      <td>0</td>\n",
       "      <td>1</td>\n",
       "      <td>1</td>\n",
       "      <td>0</td>\n",
       "      <td>...</td>\n",
       "      <td>0.620751</td>\n",
       "      <td>0.055015</td>\n",
       "      <td>0.040544</td>\n",
       "      <td>0.274118</td>\n",
       "      <td>0.207574</td>\n",
       "      <td>0.396455</td>\n",
       "      <td>0.513373</td>\n",
       "      <td>0.073206</td>\n",
       "      <td>0.245683</td>\n",
       "      <td>1</td>\n",
       "    </tr>\n",
       "    <tr>\n",
       "      <th>1403</th>\n",
       "      <td>0</td>\n",
       "      <td>0</td>\n",
       "      <td>0</td>\n",
       "      <td>0</td>\n",
       "      <td>1</td>\n",
       "      <td>0</td>\n",
       "      <td>0</td>\n",
       "      <td>0</td>\n",
       "      <td>1</td>\n",
       "      <td>0</td>\n",
       "      <td>...</td>\n",
       "      <td>0.603532</td>\n",
       "      <td>0.039823</td>\n",
       "      <td>0.034692</td>\n",
       "      <td>0.282236</td>\n",
       "      <td>0.156241</td>\n",
       "      <td>0.291595</td>\n",
       "      <td>0.508982</td>\n",
       "      <td>0.022209</td>\n",
       "      <td>0.175899</td>\n",
       "      <td>1</td>\n",
       "    </tr>\n",
       "    <tr>\n",
       "      <th>1404</th>\n",
       "      <td>0</td>\n",
       "      <td>0</td>\n",
       "      <td>0</td>\n",
       "      <td>0</td>\n",
       "      <td>1</td>\n",
       "      <td>0</td>\n",
       "      <td>0</td>\n",
       "      <td>0</td>\n",
       "      <td>1</td>\n",
       "      <td>0</td>\n",
       "      <td>...</td>\n",
       "      <td>0.634437</td>\n",
       "      <td>0.061209</td>\n",
       "      <td>0.029898</td>\n",
       "      <td>0.303393</td>\n",
       "      <td>0.124825</td>\n",
       "      <td>0.475586</td>\n",
       "      <td>0.535862</td>\n",
       "      <td>0.093317</td>\n",
       "      <td>0.227578</td>\n",
       "      <td>1</td>\n",
       "    </tr>\n",
       "    <tr>\n",
       "      <th>1405</th>\n",
       "      <td>0</td>\n",
       "      <td>0</td>\n",
       "      <td>0</td>\n",
       "      <td>0</td>\n",
       "      <td>1</td>\n",
       "      <td>0</td>\n",
       "      <td>0</td>\n",
       "      <td>0</td>\n",
       "      <td>1</td>\n",
       "      <td>0</td>\n",
       "      <td>...</td>\n",
       "      <td>0.588521</td>\n",
       "      <td>0.061947</td>\n",
       "      <td>0.038732</td>\n",
       "      <td>0.193214</td>\n",
       "      <td>0.120337</td>\n",
       "      <td>0.222985</td>\n",
       "      <td>0.506986</td>\n",
       "      <td>0.070944</td>\n",
       "      <td>0.037290</td>\n",
       "      <td>1</td>\n",
       "    </tr>\n",
       "  </tbody>\n",
       "</table>\n",
       "<p>1406 rows × 51 columns</p>\n",
       "</div>"
      ],
      "text/plain": [
       "      Diagnosis_5  Coagulopathy  Alcohol Abuse  Hypothyroidism  Anemia_0  \\\n",
       "0               0             0              0               0         1   \n",
       "1               0             0              0               0         1   \n",
       "2               0             0              0               0         1   \n",
       "3               0             0              0               0         1   \n",
       "4               0             0              0               0         1   \n",
       "...           ...           ...            ...             ...       ...   \n",
       "1401            0             0              0               0         1   \n",
       "1402            0             0              1               0         1   \n",
       "1403            0             0              0               0         1   \n",
       "1404            0             0              0               0         1   \n",
       "1405            0             0              0               0         1   \n",
       "\n",
       "      Other Neurological Disorders  Renal Failure  elx3  \\\n",
       "0                                0              0     0   \n",
       "1                                0              0     0   \n",
       "2                                0              0     0   \n",
       "3                                0              0     0   \n",
       "4                                0              0     0   \n",
       "...                            ...            ...   ...   \n",
       "1401                             0              0     0   \n",
       "1402                             0              0     1   \n",
       "1403                             0              0     0   \n",
       "1404                             0              0     0   \n",
       "1405                             0              0     0   \n",
       "\n",
       "      Psyciatric disorder_0  Congestive Heart Failure  ...  CBC_MCHC  \\\n",
       "0                         1                         0  ...  0.598675   \n",
       "1                         1                         0  ...  0.529801   \n",
       "2                         1                         0  ...  0.622517   \n",
       "3                         0                         0  ...  0.597792   \n",
       "4                         1                         0  ...  0.615011   \n",
       "...                     ...                       ...  ...       ...   \n",
       "1401                      1                         0  ...  0.598234   \n",
       "1402                      1                         0  ...  0.620751   \n",
       "1403                      1                         0  ...  0.603532   \n",
       "1404                      1                         0  ...  0.634437   \n",
       "1405                      1                         0  ...  0.588521   \n",
       "\n",
       "           GOT   CBC_WBC  OP_time_hour  CBC_RDWCV         K       ALB  \\\n",
       "0     0.062684  0.029181      0.207585   0.158672  0.492624  0.624085   \n",
       "1     0.055900  0.022650      0.197605   0.151005  0.463808  0.567798   \n",
       "2     0.059735  0.030578      0.277312   0.137447  0.502573  0.449900   \n",
       "3     0.073451  0.031635      0.337325   0.133707  0.492739  0.597605   \n",
       "4     0.056342  0.035447      0.298736   0.149790  0.448256  0.630739   \n",
       "...        ...       ...           ...        ...       ...       ...   \n",
       "1401  0.090708  0.035561      0.278643   0.185601  0.451801  0.319361   \n",
       "1402  0.055015  0.040544      0.274118   0.207574  0.396455  0.513373   \n",
       "1403  0.039823  0.034692      0.282236   0.156241  0.291595  0.508982   \n",
       "1404  0.061209  0.029898      0.303393   0.124825  0.475586  0.535862   \n",
       "1405  0.061947  0.038732      0.193214   0.120337  0.222985  0.506986   \n",
       "\n",
       "          Crea   CBC_RDW  outcome  \n",
       "0     0.100308  0.256115        0  \n",
       "1     0.064322  0.066547        0  \n",
       "2     0.117212  0.620504        0  \n",
       "3     0.084598  0.255635        0  \n",
       "4     0.091261  0.301799        0  \n",
       "...        ...       ...      ...  \n",
       "1401  0.093152  0.241847        1  \n",
       "1402  0.073206  0.245683        1  \n",
       "1403  0.022209  0.175899        1  \n",
       "1404  0.093317  0.227578        1  \n",
       "1405  0.070944  0.037290        1  \n",
       "\n",
       "[1406 rows x 51 columns]"
      ]
     },
     "execution_count": 19,
     "metadata": {},
     "output_type": "execute_result"
    }
   ],
   "source": [
    "tr"
   ]
  },
  {
   "cell_type": "markdown",
   "id": "aba9a726",
   "metadata": {},
   "source": [
    "## write file to .data and .names"
   ]
  },
  {
   "cell_type": "code",
   "execution_count": 52,
   "id": "3c4fa5bf",
   "metadata": {},
   "outputs": [
    {
     "name": "stdout",
     "output_type": "stream",
     "text": [
      "/Users/pao/Documents/data_mining/project1\n"
     ]
    }
   ],
   "source": [
    "%cd /Users/pao/Documents/data_mining/project1"
   ]
  },
  {
   "cell_type": "code",
   "execution_count": 59,
   "id": "b3d61a31",
   "metadata": {},
   "outputs": [],
   "source": [
    "tr.to_csv(\"./temp/tr_data.data\", index=False, header=False)\n"
   ]
  },
  {
   "cell_type": "code",
   "execution_count": 57,
   "id": "97d7e778",
   "metadata": {},
   "outputs": [],
   "source": []
  },
  {
   "cell_type": "code",
   "execution_count": null,
   "id": "fb639608",
   "metadata": {},
   "outputs": [],
   "source": []
  },
  {
   "cell_type": "code",
   "execution_count": null,
   "id": "799da1bc",
   "metadata": {},
   "outputs": [],
   "source": []
  },
  {
   "cell_type": "code",
   "execution_count": null,
   "id": "efbb0679",
   "metadata": {},
   "outputs": [],
   "source": []
  },
  {
   "cell_type": "code",
   "execution_count": null,
   "id": "04f26c82",
   "metadata": {},
   "outputs": [],
   "source": []
  }
 ],
 "metadata": {
  "kernelspec": {
   "display_name": "Python 3",
   "language": "python",
   "name": "python3"
  },
  "language_info": {
   "codemirror_mode": {
    "name": "ipython",
    "version": 3
   },
   "file_extension": ".py",
   "mimetype": "text/x-python",
   "name": "python",
   "nbconvert_exporter": "python",
   "pygments_lexer": "ipython3",
   "version": "3.7.7"
  }
 },
 "nbformat": 4,
 "nbformat_minor": 5
}
